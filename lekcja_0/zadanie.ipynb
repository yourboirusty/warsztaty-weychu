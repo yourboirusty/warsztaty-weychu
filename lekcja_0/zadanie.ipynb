{
 "cells": [
  {
   "cell_type": "code",
   "execution_count": 6,
   "metadata": {},
   "outputs": [
    {
     "ename": "ValueError",
     "evalue": "invalid literal for int() with base 10: ''",
     "output_type": "error",
     "traceback": [
      "\u001b[0;31m---------------------------------------------------------------------------\u001b[0m",
      "\u001b[0;31mValueError\u001b[0m                                Traceback (most recent call last)",
      "Cell \u001b[0;32mIn[6], line 2\u001b[0m\n\u001b[1;32m      1\u001b[0m \u001b[39m#\u001b[39;00m\n\u001b[0;32m----> 2\u001b[0m wa \u001b[39m=\u001b[39m \u001b[39mint\u001b[39;49m(\u001b[39minput\u001b[39;49m(\u001b[39m\"\u001b[39;49m\u001b[39mPodaj wspolczynnik a\u001b[39;49m\u001b[39m\"\u001b[39;49m))\n\u001b[1;32m      3\u001b[0m \u001b[39mprint\u001b[39m(\u001b[39m\"\u001b[39m\u001b[39mwspolczynnnik a wynosi:\u001b[39m\u001b[39m\"\u001b[39m, wa)\n\u001b[1;32m      6\u001b[0m wb \u001b[39m=\u001b[39m \u001b[39mint\u001b[39m(\u001b[39minput\u001b[39m(\u001b[39m\"\u001b[39m\u001b[39mPodaj wspolczynnik b\u001b[39m\u001b[39m\"\u001b[39m))\n",
      "\u001b[0;31mValueError\u001b[0m: invalid literal for int() with base 10: ''"
     ]
    }
   ],
   "source": [
    "#\n",
    "wa = int(input(\"Podaj wspolczynnik a\"))\n",
    "print(\"wspolczynnnik a wynosi:\", wa)\n",
    "\n",
    "\n",
    "wb = int(input(\"Podaj wspolczynnik b\"))\n",
    "print(\"wspolczynnik b wynosi:\", wb)\n",
    "\n",
    "wc = int(input(\"Podaj wspolczynnik c\"))\n",
    "print(\"wspolczynnik c wynosi:\", wc)\n",
    "\n",
    "\n",
    "def ilosc_rozwiazan_delty(wa, wb, wc) -> int:\n",
    "    delta = wb**2-4*wa*wc\n",
    "\n",
    "    if delta > 0:\n",
    "        return 2\n",
    "\n",
    "    if delta == 0:\n",
    "        return 1\n",
    "\n",
    "\n",
    "    if delta < 0:\n",
    "        return 0\n",
    "\n",
    "print(\"delta wynosi\" ,ilosc_rozwiazan_delty(wa, wb, wc))\n",
    "\n",
    "\n",
    "\n"
   ]
  },
  {
   "cell_type": "code",
   "execution_count": 9,
   "metadata": {},
   "outputs": [
    {
     "ename": "AssertionError",
     "evalue": "",
     "output_type": "error",
     "traceback": [
      "\u001b[0;31m---------------------------------------------------------------------------\u001b[0m",
      "\u001b[0;31mAssertionError\u001b[0m                            Traceback (most recent call last)",
      "Cell \u001b[0;32mIn[9], line 5\u001b[0m\n\u001b[1;32m      2\u001b[0m \u001b[39massert\u001b[39;00m ilosc_rozwiazan_delty(\u001b[39m1\u001b[39m, \u001b[39m0\u001b[39m, \u001b[39m0\u001b[39m) \u001b[39m==\u001b[39m \u001b[39m1\u001b[39m\n\u001b[1;32m      3\u001b[0m \u001b[39massert\u001b[39;00m ilosc_rozwiazan_delty(\u001b[39m1\u001b[39m, \u001b[39m1\u001b[39m, \u001b[39m3\u001b[39m) \u001b[39m==\u001b[39m \u001b[39m0\u001b[39m\n\u001b[0;32m----> 5\u001b[0m \u001b[39massert\u001b[39;00m \u001b[39mFalse\u001b[39;00m\n",
      "\u001b[0;31mAssertionError\u001b[0m: "
     ]
    }
   ],
   "source": [
    "assert ilosc_rozwiazan_delty(1, 2, -2) == 2\n",
    "assert ilosc_rozwiazan_delty(1, 0, 0) == 1\n",
    "assert ilosc_rozwiazan_delty(1, 1, 3) == 0\n",
    "\n"
   ]
  },
  {
   "cell_type": "code",
   "execution_count": null,
   "metadata": {},
   "outputs": [
    {
     "name": "stdout",
     "output_type": "stream",
     "text": [
      "droga w ruchu jednostajenie przyspieszonym\n",
      "predkosc poczatkowa to  2 m/s\n",
      "czas to  2 sekundy\n",
      "przyspieszenie to  2 m/s do kwadratu\n",
      "obliczam droge\n",
      "droga wynosila  8.0 metra\n"
     ]
    }
   ],
   "source": [
    "#droga w ruchu jednostajnie przyspieszonym\n",
    "\n",
    "print(\"droga w ruchu jednostajenie przyspieszonym\")\n",
    "\n",
    "v0 = int(input(\"jaka byla predkosc poczatkowa?\"))\n",
    "print(\"predkosc poczatkowa to \", v0,\"m/s\")\n",
    "\n",
    "t = int(input(\"jaki byl czas w jakim te droge przebyl?\"))\n",
    "print(\"czas to \", t,\"sekundy\")\n",
    "\n",
    "a = int(input(\"jakie bylo przyspieszenie ciala?\"))\n",
    "print(\"przyspieszenie to \", a,\"m/s^2\")\n",
    "\n",
    "print(\"obliczam droge\")\n",
    "\n",
    "s = v0 * t + (a * t**2) / 2\n",
    "print(\"droga wynosila \", s, \"metra\")"
   ]
  },
  {
   "cell_type": "code",
   "execution_count": null,
   "metadata": {},
   "outputs": [
    {
     "name": "stdout",
     "output_type": "stream",
     "text": [
      "predkosc poczatkowa to  2 m/s\n",
      "czas to  2 sekundy\n",
      "przyspieszenie to  2 m/s^2\n",
      "obliczam predkosc\n",
      "predkosc wyniosla  6 m/s\n"
     ]
    }
   ],
   "source": [
    "#predkosc w ruchu jednostajnie przyspieszonym\n",
    "\n",
    "v0 = int(input(\"jaka byla predkosc poczatkowa?\"))\n",
    "print(\"predkosc poczatkowa to \", v0,\"m/s\")\n",
    "\n",
    "t = int(input(\"jaki byl czas w jakim te droge przebyl?\"))\n",
    "print(\"czas to \", t, \"sekundy\")\n",
    "\n",
    "a = int(input(\"jakie bylo przyspieszenie ciala?\"))\n",
    "print(\"przyspieszenie to \", a,\"m/s^2\")\n",
    "\n",
    "print(\"obliczam predkosc\")\n",
    "\n",
    "v=v0+a*t\n",
    "print(\"predkosc wyniosla \",v, \"m/s\") "
   ]
  },
  {
   "cell_type": "code",
   "execution_count": null,
   "metadata": {},
   "outputs": [
    {
     "name": "stdout",
     "output_type": "stream",
     "text": [
      "ubierz sie na cebulke\n"
     ]
    }
   ],
   "source": [
    "temperatura = int(input(\"jaka jest temperatura?\"))\n",
    "if temperatura < 15:\n",
    "    print(\"ubierz sie na cebulke\")\n",
    "\n",
    "if temperatura > 15: \n",
    "    print(\"ubierz sie nie na cebulke\")\n"
   ]
  }
 ],
 "metadata": {
  "kernelspec": {
   "display_name": "Python 3",
   "language": "python",
   "name": "python3"
  },
  "language_info": {
   "codemirror_mode": {
    "name": "ipython",
    "version": 3
   },
   "file_extension": ".py",
   "mimetype": "text/x-python",
   "name": "python",
   "nbconvert_exporter": "python",
   "pygments_lexer": "ipython3",
   "version": "3.10.6"
  },
  "orig_nbformat": 4
 },
 "nbformat": 4,
 "nbformat_minor": 2
}
